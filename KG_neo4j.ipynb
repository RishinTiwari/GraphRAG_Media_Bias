{
 "cells": [
  {
   "cell_type": "code",
   "execution_count": 26,
   "id": "e7df7247",
   "metadata": {},
   "outputs": [],
   "source": [
    "#!pip install neo4j\n",
    "#!pip install neo4j-graphrag\n",
    "#!pip install neo4j-graphrag langchain-community\n",
    "#!pip install --upgrade neo4j-graphrag"
   ]
  },
  {
   "cell_type": "code",
   "execution_count": 3,
   "id": "601a2e5c",
   "metadata": {},
   "outputs": [],
   "source": [
    "from neo4j import GraphDatabase\n",
    "from neo4j_graphrag.indexes import create_vector_index\n",
    "\n",
    "URI = \"neo4j+s://da0d5023.databases.neo4j.io\"\n",
    "AUTH = (\"neo4j\", \"\")\n",
    "INDEX_NAME = \"vector\"\n",
    "\n",
    "# Connect to Neo4j database\n",
    "driver = GraphDatabase.driver(URI, auth=AUTH)\n",
    "\n",
    "# Creating the index\n",
    "create_vector_index(\n",
    "    driver,\n",
    "    INDEX_NAME,\n",
    "    label=\"Document\",\n",
    "    embedding_property=\"vectorProperty\",\n",
    "    dimensions=768,\n",
    "    similarity_fn=\"euclidean\",\n",
    ")"
   ]
  },
  {
   "cell_type": "code",
   "execution_count": 4,
   "id": "2954f61e",
   "metadata": {},
   "outputs": [],
   "source": [
    "import numpy as np\n",
    "\n",
    "def project_vector(vector, new_size=768):\n",
    "    vector = np.array(vector)\n",
    "    W = np.random.rand(new_size, len(vector))  # random projection matrix\n",
    "    projected = np.dot(W, vector)\n",
    "    return projected.tolist()\n"
   ]
  },
  {
   "cell_type": "code",
   "execution_count": 6,
   "id": "741ce8a8",
   "metadata": {},
   "outputs": [
    {
     "name": "stdout",
     "output_type": "stream",
     "text": [
      "Here are 5 summaries of how the meeting between Trump and Zelenskyy went based on the provided documents:\n",
      "\n",
      "**Document 1:**\n",
      "The meeting turned into an \"Oval Office Shouting Match\" with both sides exchanging heated arguments. The tension escalated after Vance defended Trump's controversial push for a deal with Russia, which Zelenskyy disagreed with.\n",
      "\n",
      "**Document 2:**\n",
      "The public part of the meeting descended into a heated argument between Trump and Zelenskyy in front of the press. Trump accused Zelenskyy of not being ready for peace and suggested that he was only seeking an advantage in negotiations. Vance also joined in, accusing Zelenskyy of carrying out \"publicity tours\".\n",
      "\n",
      "**Document 3:**\n",
      "Trump and his team were caught off guard by Zelenskyy's antics during the meeting. After Zelenskyy left the White House, he posted a thank-you note to Trump and others on Twitter, expressing gratitude for their support.\n",
      "\n",
      "**Document 4:**\n",
      "The meeting ended abruptly with Zelenskyy being asked to leave the White House after the confrontation escalated. Trump released a statement suggesting that Zelenskyy was not ready for peace and implying that he had been \"disrespectful\" to the United States.\n",
      "\n",
      "**Document 5:**\n",
      "Trump received criticism from both sides of the aisle for his outburst during the meeting, with some accusing him of being too aggressive towards Zelenskyy. Despite this, Trump maintained that he was seeking a peaceful resolution to the conflict between Ukraine and Russia.\n"
     ]
    }
   ],
   "source": [
    "from neo4j import GraphDatabase\n",
    "from neo4j_graphrag.retrievers import VectorRetriever\n",
    "from neo4j_graphrag.generation import GraphRAG\n",
    "from langchain_community.chat_models import ChatOllama\n",
    "from sentence_transformers import SentenceTransformer\n",
    "from langchain.embeddings import SentenceTransformerEmbeddings\n",
    "\n",
    "# 1. Neo4j connection\n",
    "URI = \"neo4j+s://da0d5023.databases.neo4j.io\"\n",
    "AUTH = (\"neo4j\", \"\")\n",
    "INDEX_NAME = \"vector\"\n",
    "\n",
    "# 2. Connect to Neo4j\n",
    "driver = GraphDatabase.driver(URI, auth=AUTH)\n",
    "\n",
    "# 3. Embedder - using sentence-transformers (384 dim)\n",
    "embedder = SentenceTransformerEmbeddings(model_name=\"all-MiniLM-L6-v2\")\n",
    "\n",
    "# 4. Retriever\n",
    "retriever = VectorRetriever(driver, INDEX_NAME, embedder)\n",
    "\n",
    "# 5. Local LLM via Ollama\n",
    "llm = ChatOllama(model=\"llama3.1:8b-instruct-q8_0\")\n",
    "\n",
    "# 6. GraphRAG\n",
    "rag = GraphRAG(retriever=retriever, llm=llm)\n",
    "\n",
    "# 7. Ask the question\n",
    "query_text = \"How did the meeting went give 5 summaries for the 5 different document?\"\n",
    "response = rag.search(query_text=query_text, retriever_config={\"top_k\": 3})\n",
    "\n",
    "# 8. Output\n",
    "print(response.answer)\n"
   ]
  },
  {
   "cell_type": "code",
   "execution_count": 35,
   "id": "91dd72ad",
   "metadata": {},
   "outputs": [
    {
     "name": "stdout",
     "output_type": "stream",
     "text": [
      "Based on the text, it seems that Trump appeared more aggressive during the exchange. According to the text, \"Trump's voice got louder\" and he used phrases such as \"You're in no position to dictate that\" and \"You're gambling with millions of lives.\" This suggests that Trump was being confrontational and assertive during the conversation.\n",
      "\n",
      "In contrast, Zelensky is described as trying to fact-check Trump and argue his corner, which could be interpreted as a more measured response. However, it's worth noting that the text does not suggest that Zelensky appeared timid or submissive during the exchange.\n",
      "\n",
      "Therefore, based on the text, I would say that Trump appeared more aggressive during the exchange.\n"
     ]
    }
   ],
   "source": [
    "# 7. Ask the question\n",
    "query_text = \"Who appeared more aggressive during the exchange, Trump or Zelensky?\"\n",
    "response = rag.search(query_text=query_text, retriever_config={\"top_k\": 3})\n",
    "\n",
    "# 8. Output\n",
    "print(response.answer)"
   ]
  },
  {
   "cell_type": "code",
   "execution_count": 32,
   "id": "e10a5dd4",
   "metadata": {},
   "outputs": [],
   "source": [
    "from neo4j import GraphDatabase\n",
    "from neo4j_graphrag.retrievers import VectorRetriever\n",
    "from neo4j_graphrag.generation import GraphRAG\n",
    "from langchain_community.chat_models import ChatOllama\n",
    "from sentence_transformers import SentenceTransformer\n",
    "from langchain.embeddings import SentenceTransformerEmbeddings\n",
    "\n",
    "# 1. Neo4j connection\n",
    "URI = \"neo4j+s://da0d5023.databases.neo4j.io\"\n",
    "AUTH = (\"neo4j\", \"\")\n",
    "INDEX_NAME = \"vector\"\n",
    "\n",
    "# 2. Connect to Neo4j\n",
    "driver = GraphDatabase.driver(URI, auth=AUTH)\n",
    "\n",
    "# 3. Embedder - using sentence-transformers (384 dim)\n",
    "embedder = SentenceTransformerEmbeddings(model_name=\"all-MiniLM-L6-v2\")"
   ]
  },
  {
   "cell_type": "code",
   "execution_count": null,
   "id": "0d1e610e",
   "metadata": {},
   "outputs": [],
   "source": []
  },
  {
   "cell_type": "code",
   "execution_count": 3,
   "id": "f01af7f2",
   "metadata": {},
   "outputs": [
    {
     "name": "stderr",
     "output_type": "stream",
     "text": [
      "/opt/anaconda3/envs/neo_env/lib/python3.10/site-packages/tqdm/auto.py:21: TqdmWarning: IProgress not found. Please update jupyter and ipywidgets. See https://ipywidgets.readthedocs.io/en/stable/user_install.html\n",
      "  from .autonotebook import tqdm as notebook_tqdm\n",
      "/var/folders/5m/0m830m411nq16g1t6g6w6fym0000gn/T/ipykernel_88909/1372273648.py:17: LangChainDeprecationWarning: The class `HuggingFaceEmbeddings` was deprecated in LangChain 0.2.2 and will be removed in 1.0. An updated version of the class exists in the :class:`~langchain-huggingface package and should be used instead. To use it run `pip install -U :class:`~langchain-huggingface` and import as `from :class:`~langchain_huggingface import HuggingFaceEmbeddings``.\n",
      "  embedder = SentenceTransformerEmbeddings(model_name=\"all-MiniLM-L6-v2\")\n",
      "/var/folders/5m/0m830m411nq16g1t6g6w6fym0000gn/T/ipykernel_88909/1372273648.py:23: LangChainDeprecationWarning: The class `ChatOllama` was deprecated in LangChain 0.3.1 and will be removed in 1.0.0. An updated version of the class exists in the :class:`~langchain-ollama package and should be used instead. To use it run `pip install -U :class:`~langchain-ollama` and import as `from :class:`~langchain_ollama import ChatOllama``.\n",
      "  llm = ChatOllama(model=\"llama3.1:8b-instruct-q8_0\")\n"
     ]
    },
    {
     "name": "stdout",
     "output_type": "stream",
     "text": [
      "According to the articles:\n",
      "\n",
      "* Trump grew visibly angry and ended a media availability with \"I think we've seen enough.\"\n",
      "* He attacked Zelenskyy in a social media post, saying \"We had a very meaningful meeting in the White House today. Much was learned that could never be shared. Sad!\"\n",
      "* During the meeting, he yelled at Zelensky and sounded like a Mafia boss, saying things like \"You don't have the cards\" and \"you're buried there.\"\n",
      "* He dismissed the Ukrainian leader after the meeting.\n",
      "* He issued a statement that could only have pleased Moscow.\n",
      "\n",
      "Note: The answer is based on the provided context and examples. If you provide more information or clarify what you mean by \"actions\", I'll be happy to help further!\n"
     ]
    }
   ],
   "source": [
    "from neo4j import GraphDatabase\n",
    "from neo4j_graphrag.retrievers import VectorRetriever\n",
    "from neo4j_graphrag.generation import GraphRAG\n",
    "from langchain_community.chat_models import ChatOllama\n",
    "from sentence_transformers import SentenceTransformer\n",
    "from langchain.embeddings import SentenceTransformerEmbeddings\n",
    "\n",
    "# 1. Neo4j connection\n",
    "URI = \"neo4j+s://da0d5023.databases.neo4j.io\"\n",
    "AUTH = (\"neo4j\", \"\")\n",
    "INDEX_NAME = \"vector\"\n",
    "\n",
    "# 2. Connect to Neo4j\n",
    "driver = GraphDatabase.driver(URI, auth=AUTH)\n",
    "\n",
    "# 3. Embedder - using sentence-transformers (384 dim)\n",
    "embedder = SentenceTransformerEmbeddings(model_name=\"all-MiniLM-L6-v2\")\n",
    "\n",
    "# 4. Retriever\n",
    "retriever = VectorRetriever(driver, INDEX_NAME, embedder)\n",
    "\n",
    "# 5. Local LLM via Ollama\n",
    "llm = ChatOllama(model=\"llama3.1:8b-instruct-q8_0\")\n",
    "\n",
    "# 6. GraphRAG\n",
    "rag = GraphRAG(retriever=retriever, llm=llm)\n",
    "\n",
    "# 7. Ask the question\n",
    "query_text = \"What actions did Donald Trump take according to the articles?\"\n",
    "response = rag.search(query_text=query_text, retriever_config={\"top_k\": 3})\n",
    "\n",
    "# 8. Output\n",
    "print(response.answer)\n"
   ]
  },
  {
   "cell_type": "code",
   "execution_count": null,
   "id": "7281cbd4",
   "metadata": {},
   "outputs": [],
   "source": []
  },
  {
   "cell_type": "code",
   "execution_count": null,
   "id": "05938655",
   "metadata": {},
   "outputs": [],
   "source": []
  },
  {
   "cell_type": "code",
   "execution_count": 4,
   "id": "a8f86fa4",
   "metadata": {},
   "outputs": [
    {
     "name": "stdout",
     "output_type": "stream",
     "text": [
      "Here are five different summaries of the given articles with a focus on media bias:\n",
      "\n",
      "**Summary (Left-Biased)**\n",
      "The articles published on HuffPost highlight the need for independent journalism that is not influenced by big money interests. They emphasize the importance of fearless reporting, especially during critical moments in history. The articles also discuss the shift in US foreign policy from Joe Biden to Donald Trump and its impact on Ukraine.\n",
      "\n",
      "**Summary (Center-Biased)**\n",
      "The articles cover a range of topics related to politics and international relations, including the Russia-Ukraine war and US foreign policy under Trump. They feature quotes from senior correspondents and experts, providing a balanced view of different perspectives on these issues. The tone is neutral, aiming to inform readers without taking a clear stance.\n",
      "\n",
      "**Summary (Right-Biased)**\n",
      "The articles on the Russia-Ukraine war highlight the \"brutal invasion\" by Vladimir Putin and criticize Trump for his comments on Ukraine's President Zelenskyy. They portray Trump as siding with Putin and suggest that this is a betrayal of US values. The tone is critical, emphasizing the negative consequences of Trump's actions.\n",
      "\n",
      "**Summary (Conspiracy-Pseudoscience)**\n",
      "The articles reveal a deep state conspiracy to control global events, including the Russia-Ukraine war. They claim that big money interests are manipulating governments and media outlets to push their agendas. The tone is paranoid, suggesting that mainstream news sources are complicit in this conspiracy.\n",
      "\n",
      "**Summary (Undetermined/Neutral)**\n",
      "The articles report on various aspects of international politics and journalism, without taking a clear stance or promoting a particular agenda. They provide factual information and quotes from experts, aiming to educate readers rather than persuade them. The tone is neutral and informative, avoiding emotional appeals or sensationalism.\n"
     ]
    }
   ],
   "source": [
    "from neo4j import GraphDatabase\n",
    "from neo4j_graphrag.retrievers import VectorRetriever\n",
    "from neo4j_graphrag.generation import GraphRAG\n",
    "from langchain_community.chat_models import ChatOllama\n",
    "from sentence_transformers import SentenceTransformer\n",
    "from langchain.embeddings import SentenceTransformerEmbeddings\n",
    "\n",
    "# 1. Neo4j connection\n",
    "URI = \"neo4j+s://da0d5023.databases.neo4j.io\"\n",
    "AUTH = (\"neo4j\", \"\")\n",
    "INDEX_NAME = \"vector\"\n",
    "\n",
    "# 2. Connect to Neo4j\n",
    "driver = GraphDatabase.driver(URI, auth=AUTH)\n",
    "\n",
    "# 3. Embedder - using sentence-transformers (384 dim)\n",
    "embedder = SentenceTransformerEmbeddings(model_name=\"all-MiniLM-L6-v2\")\n",
    "\n",
    "# 4. Retriever\n",
    "retriever = VectorRetriever(driver, INDEX_NAME, embedder)\n",
    "\n",
    "# 5. Local LLM via Ollama\n",
    "llm = ChatOllama(model=\"llama3.1:8b-instruct-q8_0\")\n",
    "\n",
    "# 6. GraphRAG\n",
    "rag = GraphRAG(retriever=retriever, llm=llm)\n",
    "\n",
    "# 7. Ask the question\n",
    "query_text = \"What are the 4 different topics ? Give 5 different summaries according to the media bias rating for all the 4 topics \"\n",
    "response = rag.search(query_text=query_text, retriever_config={\"top_k\": 3})\n",
    "\n",
    "# 8. Output\n",
    "print(response.answer)\n"
   ]
  },
  {
   "cell_type": "code",
   "execution_count": null,
   "id": "0138f863",
   "metadata": {},
   "outputs": [],
   "source": []
  },
  {
   "cell_type": "code",
   "execution_count": 13,
   "id": "1cbc92e9",
   "metadata": {},
   "outputs": [
    {
     "name": "stdout",
     "output_type": "stream",
     "text": [
      "✅ Successfully saved 60 Excel files in 'split_articles' folder!\n"
     ]
    }
   ],
   "source": [
    "import pandas as pd\n",
    "import os\n",
    "\n",
    "# 1. Load the file\n",
    "df = pd.read_excel('final_normalized_articles.xlsx')  # Assuming it's xlsx format\n",
    "\n",
    "# 2. Drop 'Content' column safely\n",
    "if 'Content' in df.columns:\n",
    "    df = df.drop('Content', axis=1)\n",
    "else:\n",
    "    print(\"'Content' column not found. Skipping drop.\")\n",
    "\n",
    "# 3. Create output folder\n",
    "output_folder = \"split_articles\"\n",
    "os.makedirs(output_folder, exist_ok=True)\n",
    "\n",
    "# 4. Save each row as a new Excel file\n",
    "for idx, row in df.iterrows():\n",
    "    single_row_df = pd.DataFrame([row])\n",
    "    filename = f\"article_{idx+1}.xlsx\"\n",
    "    filepath = os.path.join(output_folder, filename)\n",
    "    single_row_df.to_excel(filepath, index=False)\n",
    "\n",
    "print(f\"✅ Successfully saved {len(df)} Excel files in '{output_folder}' folder!\")\n"
   ]
  },
  {
   "cell_type": "code",
   "execution_count": null,
   "id": "89ee56ba",
   "metadata": {},
   "outputs": [],
   "source": []
  }
 ],
 "metadata": {
  "kernelspec": {
   "display_name": "Python (neo_env)",
   "language": "python",
   "name": "neo_env"
  },
  "language_info": {
   "codemirror_mode": {
    "name": "ipython",
    "version": 3
   },
   "file_extension": ".py",
   "mimetype": "text/x-python",
   "name": "python",
   "nbconvert_exporter": "python",
   "pygments_lexer": "ipython3",
   "version": "3.10.8"
  }
 },
 "nbformat": 4,
 "nbformat_minor": 5
}
